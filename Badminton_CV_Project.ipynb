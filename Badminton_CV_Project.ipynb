{
 "cells": [
  {
   "cell_type": "markdown",
   "id": "ecc35c95",
   "metadata": {},
   "source": [
    "# Importing Dependencies"
   ]
  },
  {
   "cell_type": "code",
   "execution_count": 2,
   "id": "025f9ccf",
   "metadata": {},
   "outputs": [],
   "source": [
    "import cv2\n",
    "import os\n",
    "import time\n",
    "import uuid"
   ]
  },
  {
   "cell_type": "code",
   "execution_count": 3,
   "id": "bf04a633",
   "metadata": {},
   "outputs": [],
   "source": [
    "IMAGES_PATH = \"resources\\images\\collected-images\""
   ]
  },
  {
   "cell_type": "code",
   "execution_count": 13,
   "id": "1b20a401",
   "metadata": {},
   "outputs": [],
   "source": [
    "labels = [\"racket\", \"shuttle\", \"human\"]\n",
    "num_imgs = 15"
   ]
  },
  {
   "cell_type": "code",
   "execution_count": 28,
   "id": "dbf1fa91",
   "metadata": {},
   "outputs": [
    {
     "name": "stderr",
     "output_type": "stream",
     "text": [
      "A subdirectory or file resources\\images\\collected-images\\racket already exists.\n"
     ]
    },
    {
     "name": "stdout",
     "output_type": "stream",
     "text": [
      "Collecting images of racket\n"
     ]
    },
    {
     "name": "stderr",
     "output_type": "stream",
     "text": [
      "A subdirectory or file resources\\images\\collected-images\\shuttle already exists.\n"
     ]
    },
    {
     "name": "stdout",
     "output_type": "stream",
     "text": [
      "Collecting images of shuttle\n"
     ]
    },
    {
     "name": "stderr",
     "output_type": "stream",
     "text": [
      "A subdirectory or file resources\\images\\collected-images\\human already exists.\n"
     ]
    },
    {
     "name": "stdout",
     "output_type": "stream",
     "text": [
      "Collecting images of human\n"
     ]
    }
   ],
   "source": [
    "for label in labels:\n",
    "    !mkdir {\"resources\\images\\collected-images\\\\\" + label}\n",
    "    cap = cv2.VideoCapture(0) #capture from webcam's device number is 0\n",
    "    print(\"Collecting images of {}\".format(label))\n",
    "    \n",
    "    time.sleep(5)\n",
    "    for i in range(num_imgs):\n",
    "        ret, frame = cap.read()\n",
    "        image_name = os.path.join(IMAGES_PATH, label, label+\".{}.jpg\".format(str(uuid.uuid1())))\n",
    "        \n",
    "        cv2.imwrite(image_name, frame)\n",
    "        cv2.imshow(\"frame\", frame)\n",
    "        time.sleep(3)\n",
    "        \n",
    "        if cv2.waitKey(1) & 0xFF == ord('q'):\n",
    "            break\n",
    "    cap.release()"
   ]
  },
  {
   "cell_type": "code",
   "execution_count": 29,
   "id": "e0049a39",
   "metadata": {},
   "outputs": [],
   "source": [
    "cv2.destroyAllWindows()"
   ]
  },
  {
   "cell_type": "code",
   "execution_count": null,
   "id": "58d33ab4",
   "metadata": {},
   "outputs": [],
   "source": []
  }
 ],
 "metadata": {
  "kernelspec": {
   "display_name": "Python 3 (ipykernel)",
   "language": "python",
   "name": "python3"
  },
  "language_info": {
   "codemirror_mode": {
    "name": "ipython",
    "version": 3
   },
   "file_extension": ".py",
   "mimetype": "text/x-python",
   "name": "python",
   "nbconvert_exporter": "python",
   "pygments_lexer": "ipython3",
   "version": "3.11.2"
  }
 },
 "nbformat": 4,
 "nbformat_minor": 5
}
